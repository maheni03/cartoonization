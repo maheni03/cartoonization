{
  "nbformat": 4,
  "nbformat_minor": 0,
  "metadata": {
    "colab": {
      "provenance": []
    },
    "kernelspec": {
      "name": "python3",
      "display_name": "Python 3"
    },
    "language_info": {
      "name": "python"
    }
  },
  "cells": [
    {
      "cell_type": "code",
      "execution_count": 20,
      "metadata": {
        "id": "OwqmPoP5S4wT"
      },
      "outputs": [],
      "source": [
        "import tensorflow as tf\n",
        "import numpy as np\n",
        "import cv2\n",
        "import os\n"
      ]
    },
    {
      "cell_type": "code",
      "source": [
        "def load_image_from_frame(frame):\n",
        "    \"\"\"\n",
        "    Prétraite une image (frame) extraite d'une vidéo en la redimensionnant et en la normalisant.\n",
        "\n",
        "    :param frame: Frame (image) de la vidéo.\n",
        "    :return: Image prétraitée sous forme de tensor.\n",
        "    \"\"\"\n",
        "    img = cv2.cvtColor(frame, cv2.COLOR_BGR2RGB)  # Convertir de BGR (OpenCV) à RGB (TensorFlow)\n",
        "    img = cv2.resize(img, (256, 256))  # Redimensionner l'image\n",
        "    img = tf.convert_to_tensor(img, dtype=tf.float32)  # Convertir en tensor float32\n",
        "    img = (img / 127.5) - 1  # Normalisation entre [-1, 1]\n",
        "    return img"
      ],
      "metadata": {
        "id": "Cd0PjMkkuzLp"
      },
      "execution_count": 21,
      "outputs": []
    },
    {
      "cell_type": "code",
      "source": [
        "def cartoonize_video(input_video_path, output_video_path, model_path):\n",
        "    \"\"\"\n",
        "    Applique le modèle de cartoonisation à une vidéo et génère une nouvelle vidéo transformée.\n",
        "\n",
        "    :param input_video_path: Chemin vers la vidéo d'entrée.\n",
        "    :param output_video_path: Chemin pour enregistrer la vidéo cartoonisée.\n",
        "    :param model_path: Chemin vers le modèle de génération.\n",
        "    \"\"\"\n",
        "    # Charger le modèle\n",
        "    model = tf.keras.models.load_model(model_path)\n",
        "\n",
        "    # Charger la vidéo\n",
        "    cap = cv2.VideoCapture(input_video_path)\n",
        "    if not cap.isOpened():\n",
        "        print(\"Erreur: Impossible d'ouvrir la vidéo.\")\n",
        "        return\n",
        "\n",
        "    # Récupérer les propriétés de la vidéo\n",
        "    frame_width = int(cap.get(cv2.CAP_PROP_FRAME_WIDTH))\n",
        "    frame_height = int(cap.get(cv2.CAP_PROP_FRAME_HEIGHT))\n",
        "    fps = int(cap.get(cv2.CAP_PROP_FPS))\n",
        "    frame_count = int(cap.get(cv2.CAP_PROP_FRAME_COUNT))\n",
        "\n",
        "    # Initialiser l'écriture vidéo\n",
        "    fourcc = cv2.VideoWriter_fourcc(*'mp4v')\n",
        "    out = cv2.VideoWriter(output_video_path, fourcc, fps, (frame_width, frame_height))\n",
        "\n",
        "    # Traiter chaque frame\n",
        "    print(\"Traitement en cours...\")\n",
        "    for i in range(frame_count):\n",
        "        ret, frame = cap.read()\n",
        "        if not ret:\n",
        "            break\n",
        "\n",
        "        # Prétraiter la frame\n",
        "        preprocessed_frame = load_image_from_frame(frame)\n",
        "        preprocessed_frame = tf.expand_dims(preprocessed_frame, axis=0)  # Ajouter une dimension batch\n",
        "\n",
        "        # Générer la frame cartoonisée\n",
        "        cartoonized_frame = model(preprocessed_frame, training=False)\n",
        "        cartoonized_frame = (cartoonized_frame[0].numpy() + 1) * 127.5  # Re-normalisation\n",
        "        cartoonized_frame = cartoonized_frame.astype('uint8')  # Conversion en uint8\n",
        "        cartoonized_frame = cv2.cvtColor(cartoonized_frame, cv2.COLOR_RGB2BGR)  # Convertir de RGB à BGR pour OpenCV\n",
        "\n",
        "        # Redimensionner à la taille originale et écrire la frame\n",
        "        cartoonized_frame = cv2.resize(cartoonized_frame, (frame_width, frame_height))\n",
        "        out.write(cartoonized_frame)\n",
        "\n",
        "        # Affichage en console pour le suivi\n",
        "        print(f\"Frame {i+1}/{frame_count} traitée\")\n",
        "\n",
        "    # Libérer les ressources\n",
        "    cap.release()\n",
        "    out.release()\n",
        "    print(f\"Vidéo cartoonisée sauvegardée dans {output_video_path}\")"
      ],
      "metadata": {
        "id": "w8aXND-6u7r3"
      },
      "execution_count": 22,
      "outputs": []
    },
    {
      "cell_type": "code",
      "source": [
        "input_video_path = \"/content/2D5m.gif\"\n",
        "model_path = \"/content/generator_scenery.keras\"\n",
        "output_video_path = \"/content/cartoonized_video.mp4\"  # Chemin vers le dossier /content/ dans Colab\n",
        "\n",
        "cartoonize_video(input_video_path, output_video_path, model_path)\n"
      ],
      "metadata": {
        "colab": {
          "base_uri": "https://localhost:8080/"
        },
        "id": "XWYbQLHVvL0h",
        "outputId": "c58369ff-030c-4ae8-b749-ab1eba9063fe"
      },
      "execution_count": 24,
      "outputs": [
        {
          "output_type": "stream",
          "name": "stdout",
          "text": [
            "Traitement en cours...\n",
            "Frame 1/48 traitée\n",
            "Frame 2/48 traitée\n",
            "Frame 3/48 traitée\n",
            "Frame 4/48 traitée\n",
            "Frame 5/48 traitée\n",
            "Frame 6/48 traitée\n",
            "Frame 7/48 traitée\n",
            "Frame 8/48 traitée\n",
            "Frame 9/48 traitée\n",
            "Frame 10/48 traitée\n",
            "Frame 11/48 traitée\n",
            "Frame 12/48 traitée\n",
            "Frame 13/48 traitée\n",
            "Frame 14/48 traitée\n",
            "Frame 15/48 traitée\n",
            "Frame 16/48 traitée\n",
            "Frame 17/48 traitée\n",
            "Frame 18/48 traitée\n",
            "Frame 19/48 traitée\n",
            "Frame 20/48 traitée\n",
            "Frame 21/48 traitée\n",
            "Frame 22/48 traitée\n",
            "Frame 23/48 traitée\n",
            "Frame 24/48 traitée\n",
            "Frame 25/48 traitée\n",
            "Frame 26/48 traitée\n",
            "Frame 27/48 traitée\n",
            "Frame 28/48 traitée\n",
            "Frame 29/48 traitée\n",
            "Frame 30/48 traitée\n",
            "Frame 31/48 traitée\n",
            "Frame 32/48 traitée\n",
            "Frame 33/48 traitée\n",
            "Frame 34/48 traitée\n",
            "Frame 35/48 traitée\n",
            "Frame 36/48 traitée\n",
            "Frame 37/48 traitée\n",
            "Frame 38/48 traitée\n",
            "Frame 39/48 traitée\n",
            "Frame 40/48 traitée\n",
            "Frame 41/48 traitée\n",
            "Frame 42/48 traitée\n",
            "Frame 43/48 traitée\n",
            "Frame 44/48 traitée\n",
            "Frame 45/48 traitée\n",
            "Frame 46/48 traitée\n",
            "Frame 47/48 traitée\n",
            "Frame 48/48 traitée\n",
            "Vidéo cartoonisée sauvegardée dans /content/cartoonized_video.mp4\n"
          ]
        }
      ]
    }
  ]
}